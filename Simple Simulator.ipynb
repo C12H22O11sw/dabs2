{
 "cells": [
  {
   "cell_type": "code",
   "execution_count": 2,
   "id": "5fb87eff",
   "metadata": {},
   "outputs": [],
   "source": [
    "import numpy as np\n",
    "from scipy.interpolate import LinearNDInterpolator\n",
    "from scipy.constants import lbf, inch, mph, mach\n",
    "from dataclasses import dataclass\n",
    "import matplotlib.pyplot as plt"
   ]
  },
  {
   "cell_type": "markdown",
   "id": "937dd345",
   "metadata": {},
   "source": [
    "We define our terms as follows:\n",
    "\n",
    "vehicle state: $x$\n",
    "\n",
    "control vector: $u$\n",
    "\n",
    "dynamics: $\\dot{x} = f(x,u,t)$\n",
    "\n",
    "observation: $y = h(x,t)$\n",
    "\n",
    "control scheme: $c(y)$\n",
    "\n",
    "combined equation: $\\dot{x} = f(x, c(h(x,t)),t)$\n",
    "\n",
    "since the true dynamics are unknown, we say $f\\in F$ where $F$ is a space of possible dynamics.  We define our best-guess dynamics as $f_0\\in F$ and define a metric on the space of dynamics $d(f_1,f_2):f_1,f_2\\in F$.\n",
    "\n",
    "We define $L(f,c)$ to be the maximum error from target acceleration of the rocket during flight with dynamics $f$ and control system $c$.\n",
    "\n",
    "We formulate our problem as \"Choose c as to maximize the minimum distance $d(f_0, f)$ such that $L(f,c)\\geq0.1$\"\n",
    "\n"
   ]
  },
  {
   "cell_type": "code",
   "execution_count": 5,
   "id": "e85d8364",
   "metadata": {},
   "outputs": [
    {
     "ename": "ValueError",
     "evalue": "could not convert string to float: ''",
     "output_type": "error",
     "traceback": [
      "\u001b[1;31m---------------------------------------------------------------------------\u001b[0m",
      "\u001b[1;31mValueError\u001b[0m                                Traceback (most recent call last)",
      "Cell \u001b[1;32mIn[5], line 49\u001b[0m\n\u001b[0;32m     46\u001b[0m     \u001b[38;5;28;01mreturn\u001b[39;00m LinearNDInterpolator(points, values)\n\u001b[0;32m     48\u001b[0m rpm_vel_to_wrench \u001b[38;5;241m=\u001b[39m parse_apc_propeller_data(\u001b[38;5;124m'\u001b[39m\u001b[38;5;124m./data/PER3_5x75E.dat\u001b[39m\u001b[38;5;124m'\u001b[39m)\n\u001b[1;32m---> 49\u001b[0m mach_to_cd \u001b[38;5;241m=\u001b[39m parse_drag_data(\u001b[38;5;124m'\u001b[39m\u001b[38;5;124m./data/drag_estimate.txt\u001b[39m\u001b[38;5;124m'\u001b[39m)\n\u001b[0;32m     51\u001b[0m \u001b[38;5;28mprint\u001b[39m(thrust_curve(\u001b[38;5;241m1000\u001b[39m, \u001b[38;5;241m0\u001b[39m))\n\u001b[0;32m     55\u001b[0m \u001b[38;5;28;01mdef\u001b[39;00m \u001b[38;5;21mcontrol_system\u001b[39m(target, observation, memory):\n",
      "Cell \u001b[1;32mIn[5], line 40\u001b[0m, in \u001b[0;36mparse_drag_data\u001b[1;34m(filename)\u001b[0m\n\u001b[0;32m     38\u001b[0m \u001b[38;5;28;01mfor\u001b[39;00m row \u001b[38;5;129;01min\u001b[39;00m rows[\u001b[38;5;241m1\u001b[39m:]:\n\u001b[0;32m     39\u001b[0m     entrees \u001b[38;5;241m=\u001b[39m row\u001b[38;5;241m.\u001b[39msplit(\u001b[38;5;124m'\u001b[39m\u001b[38;5;124m, \u001b[39m\u001b[38;5;124m'\u001b[39m)\n\u001b[1;32m---> 40\u001b[0m     mach \u001b[38;5;241m=\u001b[39m \u001b[38;5;28mfloat\u001b[39m(entrees[\u001b[38;5;241m0\u001b[39m])\n\u001b[0;32m     41\u001b[0m     drag_coef \u001b[38;5;241m=\u001b[39m \u001b[38;5;28mfloat\u001b[39m(entrees[\u001b[38;5;241m1\u001b[39m])\n\u001b[0;32m     43\u001b[0m     points\u001b[38;5;241m.\u001b[39mappend(mach)\n",
      "\u001b[1;31mValueError\u001b[0m: could not convert string to float: ''"
     ]
    }
   ],
   "source": [
    "def parse_apc_propeller_data(filename):\n",
    "    \n",
    "    points = []\n",
    "    values = []\n",
    "    \n",
    "    f = open(filename)\n",
    "        \n",
    "    tables = f.read().split('PROP RPM = ')\n",
    "        \n",
    "    for table in tables[1:]:\n",
    "        rows = table.split('\\n')        \n",
    "        #Find RPM\n",
    "        rpm = int(rows[0].split()[0])\n",
    "        \n",
    "        header = rows[2].split()\n",
    "        velocity_index = header.index('V')\n",
    "        torque_index = header.index('Torque')\n",
    "        thrust_index = header.index('Thrust')\n",
    "                \n",
    "        for row in rows[4:-4]:\n",
    "            entrees = row.split()\n",
    "            velocity = float(entrees[velocity_index]) * mph\n",
    "            torque_x = float(entrees[torque_index]) * lbf * inch\n",
    "            thrust_x = float(entrees[thrust_index]) * lbf\n",
    "            points.append([rpm, velocity])\n",
    "            values.append(np.array([thrust_x, 0, 0, torque_x, 0, 0]))\n",
    "            \n",
    "    return LinearNDInterpolator(points, values, 0)\n",
    "\n",
    "def parse_drag_data(filename):\n",
    "    \n",
    "    points = []\n",
    "    values = []\n",
    "    \n",
    "    f = open(filename)\n",
    "    \n",
    "    rows = f.read().split('\\n')\n",
    "    for row in rows[1:]:\n",
    "        entrees = row.split(', ')\n",
    "        mach = float(entrees[0])\n",
    "        drag_coef = float(entrees[1])\n",
    "        \n",
    "        points.append(mach)\n",
    "        values.append(drag_coef)\n",
    "        \n",
    "    return LinearNDInterpolator(points, values)\n",
    "    \n",
    "rpm_vel_to_wrench = parse_apc_propeller_data('./data/PER3_5x75E.dat')\n",
    "mach_to_cd = parse_drag_data('./data/drag_estimate.txt')\n",
    "\n",
    "print(thrust_curve(1000, 0))\n",
    "\n",
    "\n",
    "\n",
    "def control_system(target, observation, memory):\n",
    "     \n",
    "    kp = 0.1\n",
    "    ki = 0.0\n",
    "    kd = 0.0\n",
    "    \n",
    "    p = target - observation\n",
    "    i = memory['i'] + p\n",
    "    d = p - memory['p']\n",
    "    \n",
    "    signal = kp * p + ki * i + kd * d\n",
    "    \n",
    "    memory['p'] = p\n",
    "    memory['i'] = i\n",
    "    \n",
    "    return signal\n"
   ]
  },
  {
   "cell_type": "code",
   "execution_count": null,
   "id": "7cd11ea5",
   "metadata": {},
   "outputs": [],
   "source": []
  }
 ],
 "metadata": {
  "kernelspec": {
   "display_name": "Python 3 (ipykernel)",
   "language": "python",
   "name": "python3"
  },
  "language_info": {
   "codemirror_mode": {
    "name": "ipython",
    "version": 3
   },
   "file_extension": ".py",
   "mimetype": "text/x-python",
   "name": "python",
   "nbconvert_exporter": "python",
   "pygments_lexer": "ipython3",
   "version": "3.11.4"
  }
 },
 "nbformat": 4,
 "nbformat_minor": 5
}
