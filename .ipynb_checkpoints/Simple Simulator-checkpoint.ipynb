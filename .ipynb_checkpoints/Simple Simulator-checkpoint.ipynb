{
 "cells": [
  {
   "cell_type": "code",
   "execution_count": 1,
   "id": "5fb87eff",
   "metadata": {},
   "outputs": [],
   "source": [
    "import numpy as np\n",
    "from scipy.interpolate import LinearNDInterpolator\n",
    "from scipy.constants import lbf, inch, mph\n",
    "from dataclasses import dataclass"
   ]
  },
  {
   "cell_type": "markdown",
   "id": "937dd345",
   "metadata": {},
   "source": [
    "We define our terms as follows:\n",
    "\n",
    "vehicle state: $x$\n",
    "\n",
    "control vector: $u$\n",
    "\n",
    "dynamics: $\\dot{x} = f(x,u,t)$\n",
    "\n",
    "observation: $y = h(x,t)$\n",
    "\n",
    "control scheme: $c(y)$\n",
    "\n",
    "combined equation: $\\dot{x} = f(x, c(h(x,t)),t)$\n",
    "\n",
    "since the true dynamics are unknown, we say $f\\in F$ where $F$ is a space of possible dynamics.  We define our best-guess dynamics as $f_0\\in F$ and define a metric on the space of dynamics $d(f_1,f_2):f_1,f_2\\in F$.\n",
    "\n",
    "We define $L(f,c)$ to be the maximum error from target acceleration of the rocket during flight with dynamics $f$ and control system $c$.\n",
    "\n",
    "We formulate our problem as \"Choose c as to maximize the minimum distance $d(f_0, f)$ such that $L(f,c)\\geq0.1$\"\n",
    "\n"
   ]
  },
  {
   "cell_type": "code",
   "execution_count": null,
   "id": "72a723b5",
   "metadata": {},
   "outputs": [],
   "source": [
    "@dataclass\n",
    "class State:\n",
    "    \"\"\"Class to represent the state of a rocket\"\"\"\n",
    "    position: numpy.ndrray\n",
    "    orientation\n",
    "    \n",
    "    "
   ]
  },
  {
   "cell_type": "code",
   "execution_count": 2,
   "id": "e85d8364",
   "metadata": {},
   "outputs": [
    {
     "name": "stdout",
     "output_type": "stream",
     "text": [
      "[0.00033895 0.01334466]\n"
     ]
    }
   ],
   "source": [
    "# filename -> ( function( RPM, V ) -> Force , Max RPM, Max V )\n",
    "def parse_apc_propeller_data(filename):\n",
    "    \n",
    "    points = []\n",
    "    values = []\n",
    "    \n",
    "    f = open(filename)\n",
    "        \n",
    "    tables = f.read().split('PROP RPM = ')\n",
    "        \n",
    "    for table in tables[1:]:\n",
    "        rows = table.split('\\n')        \n",
    "        #Find RPM\n",
    "        rpm = int(rows[0].split()[0])\n",
    "        \n",
    "        header = rows[2].split()\n",
    "        velocity_index = header.index('V')\n",
    "        torque_index = header.index('Torque')\n",
    "        thrust_index = header.index('Thrust')\n",
    "                \n",
    "        for row in rows[4:-4]:\n",
    "            entrees = row.split()\n",
    "            velocity = float(entrees[velocity_index]) * mph\n",
    "            torque_x = float(entrees[torque_index]) * lbf * inch\n",
    "            thrust_x = float(entrees[thrust_index]) * lbf\n",
    "            points.append([rpm, velocity])\n",
    "            values.append(np.array([thrust_x, 0, 0, torque_x, 0, 0]))\n",
    "            \n",
    "    return LinearNDInterpolator(points, values, 0)\n",
    "\n",
    "\n",
    "    \n",
    "thrust_curve = parse_apc_propeller_data('./data/PER3_5x75E.dat')\n",
    "\n",
    "print(thrust_curve(1000, 0))\n",
    "\n"
   ]
  },
  {
   "cell_type": "code",
   "execution_count": 52,
   "id": "036a95e0",
   "metadata": {},
   "outputs": [
    {
     "ename": "TypeError",
     "evalue": "float() argument must be a string or a real number, not 'list'",
     "output_type": "error",
     "traceback": [
      "\u001b[1;31m---------------------------------------------------------------------------\u001b[0m",
      "\u001b[1;31mTypeError\u001b[0m                                 Traceback (most recent call last)",
      "Cell \u001b[1;32mIn[52], line 1\u001b[0m\n\u001b[1;32m----> 1\u001b[0m \u001b[38;5;28mfloat\u001b[39m([\u001b[38;5;241m0.1\u001b[39m])\n",
      "\u001b[1;31mTypeError\u001b[0m: float() argument must be a string or a real number, not 'list'"
     ]
    }
   ],
   "source": []
  },
  {
   "cell_type": "code",
   "execution_count": null,
   "id": "cf24be93",
   "metadata": {},
   "outputs": [],
   "source": []
  }
 ],
 "metadata": {
  "kernelspec": {
   "display_name": "Python 3 (ipykernel)",
   "language": "python",
   "name": "python3"
  },
  "language_info": {
   "codemirror_mode": {
    "name": "ipython",
    "version": 3
   },
   "file_extension": ".py",
   "mimetype": "text/x-python",
   "name": "python",
   "nbconvert_exporter": "python",
   "pygments_lexer": "ipython3",
   "version": "3.11.4"
  }
 },
 "nbformat": 4,
 "nbformat_minor": 5
}
